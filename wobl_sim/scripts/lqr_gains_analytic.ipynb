{
 "cells": [
  {
   "cell_type": "code",
   "execution_count": 2,
   "id": "5779e7ab",
   "metadata": {},
   "outputs": [],
   "source": [
    "from wobl_sim.robot import Robot\n",
    "from dm_control.locomotion.arenas import Floor\n",
    "from dm_control import mjcf\n",
    "import numpy as np\n",
    "import control\n",
    "import mujoco\n",
    "import mediapy as media\n",
    "\n",
    "def compute_mass(model):\n",
    "    total_mass = 0.0\n",
    "    for i in range(model.nbody):\n",
    "        total_mass += model.body_mass[i]\n",
    "    return total_mass\n",
    "\n",
    "def compute_total_com(model, data):\n",
    "    total_mass = 0.0\n",
    "    com = np.zeros(3)\n",
    "\n",
    "    for i in range(model.nbody):\n",
    "        body_mass = model.body_mass[i]\n",
    "        # Get world position of this body's CoM\n",
    "        body_com = data.xipos[i]\n",
    "        com += body_mass * body_com\n",
    "        total_mass += body_mass\n",
    "\n",
    "    return com / total_mass if total_mass > 0 else com\n",
    "\n",
    "def find_equilibrium(robot: Robot, physics: mjcf.Physics):\n",
    "    com = compute_total_com(physics.model, physics.data)\n",
    "    com_x_offset = com[0]\n",
    "    com_z_offset = com[2] - robot.mjcf_model.find(\"joint\", \"L_foot\").pos[2]\n",
    "    theta_eq = -com_x_offset / com_z_offset\n",
    "    return theta_eq\n",
    "\n",
    "def compute_com_height(robot: Robot, physics: mjcf.Physics):\n",
    "    com = compute_total_com(physics.model, physics.data)[[0, 2]]\n",
    "    wheel_pos = robot.mjcf_model.find(\"joint\", \"L_foot\").pos[[0, 2]]\n",
    "\n",
    "    return np.linalg.norm(com - wheel_pos)\n",
    "\n",
    "robot = Robot(\"../mjcf\")\n",
    "arena = Floor(reflectance=0.0)\n",
    "arena.add_free_entity(robot)\n",
    "\n",
    "physics = mjcf.Physics.from_mjcf_model(arena.mjcf_model)"
   ]
  },
  {
   "cell_type": "code",
   "execution_count": 3,
   "id": "f7b71a84",
   "metadata": {},
   "outputs": [
    {
     "name": "stdout",
     "output_type": "stream",
     "text": [
      "Total mass (m): 1.8909214736935442 kg\n",
      "COM height (l): 0.12300142698585038 m\n",
      "Wheel radius (r): 0.04 m\n",
      "Gravity (g): 9.81 m/s^2\n",
      "Equilibrium pitch angle (theta_eq): 0.03130158092482721 rad\n"
     ]
    }
   ],
   "source": [
    "# System Parameters\n",
    "g = 9.81  # acceleration due to gravity (m/s^2)\n",
    "# sourced from https://blog.pictor.us/lqr-control-of-a-self-balancing-robot/\n",
    "# robot physical parameters\n",
    "m = compute_mass(physics.model)   # total mass (kg)\n",
    "l = compute_com_height(robot, physics)   # length to the center of mass from wheel axis (m)\n",
    "r = 0.04  # Wheel radius (m)\n",
    "theta_eq = find_equilibrium(robot, physics)\n",
    "\n",
    "print(f\"Total mass (m): {m} kg\")\n",
    "print(f\"COM height (l): {l} m\")\n",
    "print(f\"Wheel radius (r): {r} m\")\n",
    "print(f\"Gravity (g): {g} m/s^2\")\n",
    "print(f\"Equilibrium pitch angle (theta_eq): {theta_eq} rad\")"
   ]
  },
  {
   "cell_type": "code",
   "execution_count": 4,
   "id": "3a18108f",
   "metadata": {},
   "outputs": [
    {
     "name": "stdout",
     "output_type": "stream",
     "text": [
      "A matrix:\n",
      " [[ 0.          1.          0.        ]\n",
      " [79.75517228  0.          0.        ]\n",
      " [-5.1879468   0.          0.        ]]\n",
      "B matrix:\n",
      " [[  0.        ]\n",
      " [-34.95475049]\n",
      " [  0.52884269]]\n",
      "Q matrix:\n",
      " [[3.  0.  0.  0. ]\n",
      " [0.  0.5 0.  0. ]\n",
      " [0.  0.  2.  0. ]\n",
      " [0.  0.  0.  1. ]]\n",
      "R matrix:\n",
      " [[1.5]]\n",
      "LQR gain K:\n",
      " [[-6.59229205 -0.81688157  1.76107987  0.81649658]]\n"
     ]
    }
   ],
   "source": [
    "A = np.array([[0, 1, 0],\n",
    "              [g/l, 0, 0],\n",
    "              [-g/m, 0, 0]])\n",
    "\n",
    "B = np.array([[0],\n",
    "              [- 1 / (m * (l ** 2))],\n",
    "              [ 1 / m]])\n",
    "    \n",
    "# Weighting matrices\n",
    "Q = np.diag([3.0, 0.5, 2.0, 1.0])  # Penalizing theta, theta_dot, x, and x_dot\n",
    "R = np.array([[1.5]]) # Penalizing control effort\n",
    "\n",
    "# Define which states to use for integral action\n",
    "# This matrix defines what linear combination of states to integrate\n",
    "# For velocity control, we want to integrate the velocity (4th state)\n",
    "C_integral = np.array([[0, 0, 1]])  # Integrate the velocity state\n",
    "\n",
    "\n",
    "# Calculate the LQR gain matrix K\n",
    "# This is what our Python script returns.\n",
    "K, _, _ = control.lqr(A, B, Q, R, integral_action = C_integral)\n",
    "\n",
    "print(\"A matrix:\\n\", A)\n",
    "print(\"B matrix:\\n\", B)\n",
    "print(\"Q matrix:\\n\", Q)\n",
    "print(\"R matrix:\\n\", R)\n",
    "print(\"LQR gain K:\\n\", K)"
   ]
  },
  {
   "cell_type": "code",
   "execution_count": null,
   "id": "a9af3941",
   "metadata": {},
   "outputs": [],
   "source": []
  }
 ],
 "metadata": {
  "kernelspec": {
   "display_name": ".venv",
   "language": "python",
   "name": "python3"
  },
  "language_info": {
   "codemirror_mode": {
    "name": "ipython",
    "version": 3
   },
   "file_extension": ".py",
   "mimetype": "text/x-python",
   "name": "python",
   "nbconvert_exporter": "python",
   "pygments_lexer": "ipython3",
   "version": "3.12.3"
  }
 },
 "nbformat": 4,
 "nbformat_minor": 5
}
